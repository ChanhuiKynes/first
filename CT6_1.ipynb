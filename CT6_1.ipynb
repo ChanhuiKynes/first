{
  "nbformat": 4,
  "nbformat_minor": 0,
  "metadata": {
    "colab": {
      "provenance": [],
      "authorship_tag": "ABX9TyOLZ7lNoZEgvAc8koDG+bNE",
      "include_colab_link": true
    },
    "kernelspec": {
      "name": "python3",
      "display_name": "Python 3"
    },
    "language_info": {
      "name": "python"
    }
  },
  "cells": [
    {
      "cell_type": "markdown",
      "metadata": {
        "id": "view-in-github",
        "colab_type": "text"
      },
      "source": [
        "<a href=\"https://colab.research.google.com/github/ChanhuiKynes/first/blob/main/CT6_1.ipynb\" target=\"_parent\"><img src=\"https://colab.research.google.com/assets/colab-badge.svg\" alt=\"Open In Colab\"/></a>"
      ]
    },
    {
      "cell_type": "markdown",
      "source": [
        "사용자로부터 3개의 정수를 받아 평균을 계산하는 알고리즘과 이것을 구현한다."
      ],
      "metadata": {
        "id": "F6Gjho3quttU"
      }
    },
    {
      "cell_type": "code",
      "execution_count": 5,
      "metadata": {
        "colab": {
          "base_uri": "https://localhost:8080/",
          "height": 137
        },
        "id": "S8HbWzSDunTH",
        "outputId": "49be198c-d7fd-4729-d870-9138970cddc7"
      },
      "outputs": [
        {
          "output_type": "error",
          "ename": "SyntaxError",
          "evalue": "ignored",
          "traceback": [
            "\u001b[0;36m  File \u001b[0;32m\"<ipython-input-5-7c444925092b>\"\u001b[0;36m, line \u001b[0;32m1\u001b[0m\n\u001b[0;31m    n1=input(\"n1의 값을 입력하시오.:\"))\u001b[0m\n\u001b[0m                              ^\u001b[0m\n\u001b[0;31mSyntaxError\u001b[0m\u001b[0;31m:\u001b[0m unmatched ')'\n"
          ]
        }
      ],
      "source": [
        "n1=input(\"n1의 값을 입력하시오.:\")) # 사용자에게 n1을 정수형을 받아라\n",
        "n2=input(\"n1의 값을 입력하시오.:\")) # 사용자에게 n1을 정수형을 받아라\n",
        "n3=input(\"n1의 값을 입력하시오.:\")) # 사용자에게 n1을 정수형을 받아라\n",
        "total=n1+n2+n3                      # total변수에 n1, n2, n3의 힘을 저장하라\n",
        "average= total/3                    # average변수에 total을 3을 나눈 평균값을 지정하라.\n",
        "print('합=',total, '평균=',average) # 힘과 변수 total, 평균과 변수 average 값을 화면에 출력해라."
      ]
    },
    {
      "cell_type": "code",
      "source": [],
      "metadata": {
        "id": "sV2M4XNeyA-f"
      },
      "execution_count": null,
      "outputs": []
    }
  ]
}