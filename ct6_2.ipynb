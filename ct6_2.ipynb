{
  "nbformat": 4,
  "nbformat_minor": 0,
  "metadata": {
    "colab": {
      "provenance": [],
      "authorship_tag": "ABX9TyOanqa+v6RpvMjR9H1WulZX",
      "include_colab_link": true
    },
    "kernelspec": {
      "name": "python3",
      "display_name": "Python 3"
    },
    "language_info": {
      "name": "python"
    }
  },
  "cells": [
    {
      "cell_type": "markdown",
      "metadata": {
        "id": "view-in-github",
        "colab_type": "text"
      },
      "source": [
        "<a href=\"https://colab.research.google.com/github/ChanhuiKynes/first/blob/main/ct6_2.ipynb\" target=\"_parent\"><img src=\"https://colab.research.google.com/assets/colab-badge.svg\" alt=\"Open In Colab\"/></a>"
      ]
    },
    {
      "cell_type": "code",
      "execution_count": null,
      "metadata": {
        "id": "yP_PB0jOXQOG"
      },
      "outputs": [],
      "source": [
        "total =0\n",
        "counter =1\n",
        "while counter <= 10:\n",
        "    grade=int(input(\"정수를 입력하시오\"))        # 사용자에게 정수형으로 받아라\n",
        "    total = grade + total                        # total 변수에 grade, total의 합을 저장해라\n",
        "    counter = 1\n",
        "average = total / 10                             #average 변수에 total을 10으로 나눈 평균값을 지정해라\n",
        "print(average)                                   #합과 변수 total, 평균과 변수 average 값을 화면에 출력해라"
      ]
    },
    {
      "cell_type": "markdown",
      "source": [
        "total <-0\n",
        "counter <-1\n",
        "while counter <= 10:\n",
        "input grade\n",
        "total <-grade + total\n",
        "counter <- counter + 1\n",
        "average <- total / 10\n",
        "print average\n",
        "\n",
        "학생 10명의 성적 입력하여 평균을 계산하는 알고리즘 의사코드 표현"
      ],
      "metadata": {
        "id": "JgLvY88CYngT"
      }
    }
  ]
}